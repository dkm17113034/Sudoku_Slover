{
 "cells": [
  {
   "cell_type": "code",
   "execution_count": 1,
   "metadata": {},
   "outputs": [],
   "source": [
    "\n",
    "    def isfull(board):\n",
    "        for i in range(0,9):\n",
    "            for j in range(0,9):\n",
    "                if board[i][j]==\".\":\n",
    "                    return False\n",
    "        return True\n",
    "    def possiblevalues(board,row,column):\n",
    "        possiblearr={}\n",
    "        for i in range(1,10):\n",
    "            possiblearr[str(i)]=\".\"\n",
    "        for i in range(0,9):\n",
    "            if not board[row][i]==\".\":\n",
    "                possiblearr[board[row][i]]=\"f\"\n",
    "        for i in range(0,9):\n",
    "            if not board[i][column]==\".\":\n",
    "                possiblearr[board[i][column]]=\"f\"\n",
    "        r=3*(row//3)\n",
    "        c=3*(column//3)\n",
    "        for i in range(r,r+3):\n",
    "            for j in range(c,c+3):\n",
    "                if not board[i][j]==\".\":\n",
    "                    possiblearr[board[i][j]]=\"f\"\n",
    "        for i in range(1,10):\n",
    "            if possiblearr[str(i)]==\".\":\n",
    "                possiblearr[str(i)]=str(i)\n",
    "            else:\n",
    "                possiblearr[str(i)]=\".\"\n",
    "                \n",
    "        return possiblearr\n",
    "    def solveSudoku(A):\n",
    "        r=0\n",
    "        c=0\n",
    "        possible={}\n",
    "        if isfull(A):\n",
    "            print(A)\n",
    "            return\n",
    "            \n",
    "    \n",
    "        else:\n",
    "            for i in range(0,9):\n",
    "                for j in range(0,9):\n",
    "                    if A[i][j]==\".\":\n",
    "                        r=i\n",
    "                        c=j\n",
    "                        break\n",
    "                else:\n",
    "                    continue\n",
    "                break\n",
    "            possible=possiblevalues(A,r,c)\n",
    "            for i in range(1,10):\n",
    "                if not possible[str(i)]==\".\":\n",
    "                    A[r][c]=possible[str(i)]\n",
    "                    solveSudoku(A)\n",
    "            A[r][c]=\".\"\n",
    "A=[ \"53..7....\", \"6..195...\", \".98....6.\", \"8...6...3\", \"4..8.3..1\", \"7...2...6\", \".6....28.\", \"...419..5\", \"....8..79\" ]\n"
   ]
  },
  {
   "cell_type": "code",
   "execution_count": 2,
   "metadata": {},
   "outputs": [],
   "source": [
    "for i in range(0,9):\n",
    "    l=[]\n",
    "    for j in range(0,9):\n",
    "        l.append(A[i][j])\n",
    "    A[i]=l"
   ]
  },
  {
   "cell_type": "code",
   "execution_count": 3,
   "metadata": {},
   "outputs": [
    {
     "name": "stdout",
     "output_type": "stream",
     "text": [
      "[['5', '3', '4', '6', '7', '8', '9', '1', '2'], ['6', '7', '2', '1', '9', '5', '3', '4', '8'], ['1', '9', '8', '3', '4', '2', '5', '6', '7'], ['8', '5', '9', '7', '6', '1', '4', '2', '3'], ['4', '2', '6', '8', '5', '3', '7', '9', '1'], ['7', '1', '3', '9', '2', '4', '8', '5', '6'], ['9', '6', '1', '5', '3', '7', '2', '8', '4'], ['2', '8', '7', '4', '1', '9', '6', '3', '5'], ['3', '4', '5', '2', '8', '6', '1', '7', '9']]\n"
     ]
    }
   ],
   "source": [
    "solveSudoku(A)"
   ]
  },
  {
   "cell_type": "code",
   "execution_count": null,
   "metadata": {},
   "outputs": [],
   "source": []
  }
 ],
 "metadata": {
  "kernelspec": {
   "display_name": "Python 3",
   "language": "python",
   "name": "python3"
  },
  "language_info": {
   "codemirror_mode": {
    "name": "ipython",
    "version": 3
   },
   "file_extension": ".py",
   "mimetype": "text/x-python",
   "name": "python",
   "nbconvert_exporter": "python",
   "pygments_lexer": "ipython3",
   "version": "3.7.4"
  }
 },
 "nbformat": 4,
 "nbformat_minor": 2
}
